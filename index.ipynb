{
 "cells": [
  {
   "cell_type": "markdown",
   "id": "69e5461b",
   "metadata": {},
   "source": [
    "## 🌾 **A Data-Driven Investigation into Climate, Pesticides, and Crop Yields**\n",
    "\n",
    "### **Business Understanding**\n",
    "\n",
    "Agriculture is the backbone of global food security, and accurate prediction of crop yield is essential for ensuring sustainable production and informed policy-making. With increasing pressure from climate change, evolving pesticide usage patterns, and the need to optimize inputs for better outcomes, stakeholders—from farmers to governments—require data-driven insights to make proactive decisions.\n",
    "\n",
    "This project focuses on analyzing historical data related to climate conditions, pesticide usage, and crop yields for the 10 most consumed crops globally. The goal is to uncover patterns, trends, and statistically significant relationships that influence crop productivity. By developing a deep understanding of these interdependencies, this investigation aims to support strategies that enhance agricultural efficiency, minimize environmental impact, and reduce risk in food production systems.\n",
    "\n",
    "## 📌 Project Plan\n",
    "\n",
    "### 🧾 **Overview / Background**\n",
    "\n",
    "With the growing global population and increasing threats from climate change, the demand for accurate, data-driven insights in agriculture has never been higher. This project explores the relationship between climate conditions, pesticide usage, and crop yields using historical data from the 10 most consumed crops worldwide. By understanding how these factors interact, the project aims to inform strategies for improving productivity, sustainability, and resilience in agricultural systems.\n",
    "\n",
    "### ⚠️ **Challenges**\n",
    "\n",
    "- 🌦 **Climate Variability**: Unpredictable weather patterns can obscure yield trends and complicate analysis.\n",
    "- 🧪 **Data Quality**: Issues like missing values, inconsistent units, and outliers may affect data reliability.\n",
    "- 🌍 **Regional Differences**: Yield determinants may vary significantly across countries, complicating generalized conclusions.\n",
    "- 📉 **Complex Interactions**: The interplay between pesticides, rainfall, and temperature can be nonlinear and hard to isolate without robust statistical methods.\n",
    "\n",
    "### 💡 **Proposed Solution**\n",
    "\n",
    "The project will follow a structured data science pipeline starting with rigorous data cleaning and exploration. It will use descriptive statistics and hypothesis testing to uncover meaningful patterns and relationships between climate factors, pesticides, and yield performance. Insights will be visualized for interpretability and aimed at supporting better decision-making in crop management, policy formulation, and risk mitigation.\n",
    "\n",
    "### ❗ Problem Statement\n",
    "\n",
    "Accurately predicting crop yield remains a significant challenge due to the complex and often unpredictable nature of climate variability, inconsistencies in data quality, and the diverse agricultural practices across different regions. The presence of missing values, non-uniform data entries, and outliers further complicates the analysis. Additionally, the intricate interactions between environmental factors such as temperature, rainfall, and pesticide usage make it difficult to isolate and understand their individual and combined effects on crop productivity.\n",
    "\n",
    "### 🎯 Project Objectives\n",
    "\n",
    "The primary objective of this project is to conduct a comprehensive, data-driven investigation into the factors affecting crop yield, with a focus on climate variables and pesticide usage. Specific objectives include:\n",
    "\n",
    "1. **Understand the Dataset**: Explore and describe the structure, variables, and distribution of the crop yield dataset to gain a clear understanding of its scope and limitations.\n",
    "\n",
    "2. **Assess Data Quality**: Identify and address missing values, inconsistencies, outliers, and other data quality issues to ensure reliable and accurate analysis.\n",
    "\n",
    "3. **Perform Exploratory Data Analysis (EDA)**: Visualize and summarize the data to detect trends, patterns, and potential relationships between climate factors, pesticide usage, and crop yield.\n",
    "\n",
    "4. **Apply Computational Statistics**: Use statistical techniques to test hypotheses and measure the strength and significance of associations between variables.\n",
    "\n",
    "5. **Generate Insightful Visuals**: Create intuitive charts and graphs that clearly communicate key findings to both technical and non-technical stakeholders.\n",
    "\n",
    "6. **Support Decision-Making**: Derive actionable insights that can inform agricultural policy, resource allocation, and climate-resilient crop management strategies.\n",
    "\n",
    "7. **Lay the Foundation for Predictive Modeling**: Prepare the dataset and insights in a way that supports the development of future machine learning models for crop yield prediction.\n",
    "\n",
    "\n",
    "\n",
    "\n",
    "### 🧾 **Conclusion**\n",
    "\n",
    "This project serves as a practical and insightful exploration into how climate factors and pesticide usage impact crop yields, with a focus on data quality, analysis, and statistical reasoning. By leveraging data science techniques in the agritech domain, the investigation aims to generate actionable insights that can support more sustainable and productive agricultural practices. The findings are expected to contribute toward data-informed decisions in food security, environmental management, and policy development.\n",
    "\n",
    "\n",
    "\n",
    "\n",
    "### 🔍 **Step 2: Data Understanding**\n",
    "\n",
    "The objective of this phase is to **explore and assess the dataset** to uncover quality issues and extract initial insights that guide further analysis.\n",
    "\n",
    "#### 📊 **Dataset Overview**\n",
    "- **Columns Description**: Review each column to understand its meaning, data type, and role in the analysis (e.g., crop type, country, year, yield, rainfall, temperature, pesticide usage).\n",
    "- **Data Types**: Ensure columns have appropriate formats (e.g., numerical, categorical, datetime).\n",
    "\n",
    "#### ✅ **Key Checks**\n",
    "- 🟨 **Missing Values**: Identify and quantify null or NaN entries.\n",
    "- 📏 **Uniformity**: Check for consistent units, naming conventions, and formats.\n",
    "- ⚠️ **Outliers**: Detect unusual values that may skew analysis.\n",
    "- ♻️ **Duplicates**: Look for repeated rows or records.\n",
    "- 🧹 **Noise/Errors**: Spot typos, impossible values (e.g., negative rainfall), and inconsistent labeling.\n",
    "\n",
    "This step sets the foundation for effective cleaning, analysis, and modeling by ensuring the **data is reliable, accurate, and ready for deeper investigation**.\n"
   ]
  },
  {
   "cell_type": "markdown",
   "id": "8593046f",
   "metadata": {},
   "source": [
    "In cell below import libraries"
   ]
  },
  {
   "cell_type": "code",
   "execution_count": 1,
   "id": "6ec494c9",
   "metadata": {},
   "outputs": [],
   "source": [
    "import pandas as pd\n",
    "import numpy as np\n",
    "import matplotlib.pyplot as plt\n",
    "import seaborn as sns\n",
    "import scipy.stats as st\n",
    "from load import load_data"
   ]
  },
  {
   "cell_type": "markdown",
   "id": "3797b85a",
   "metadata": {},
   "source": [
    "Load data in cell below "
   ]
  },
  {
   "cell_type": "code",
   "execution_count": 8,
   "id": "bcddf850",
   "metadata": {},
   "outputs": [
    {
     "data": {
      "application/vnd.microsoft.datawrangler.viewer.v0+json": {
       "columns": [
        {
         "name": "index",
         "rawType": "int64",
         "type": "integer"
        },
        {
         "name": "Area",
         "rawType": "object",
         "type": "string"
        },
        {
         "name": "Item",
         "rawType": "object",
         "type": "string"
        },
        {
         "name": "Year",
         "rawType": "int64",
         "type": "integer"
        },
        {
         "name": "hg/ha_yield",
         "rawType": "int64",
         "type": "integer"
        },
        {
         "name": "average_rain_fall_mm_per_year",
         "rawType": "float64",
         "type": "float"
        },
        {
         "name": "pesticides_tonnes",
         "rawType": "float64",
         "type": "float"
        },
        {
         "name": "avg_temp",
         "rawType": "float64",
         "type": "float"
        }
       ],
       "conversionMethod": "pd.DataFrame",
       "ref": "37105326-eb41-43bb-831c-173751b4d62b",
       "rows": [
        [
         "0",
         "Albania",
         "Maize",
         "1990",
         "36613",
         "1485.0",
         "121.0",
         "16.37"
        ],
        [
         "1",
         "Albania",
         "Potatoes",
         "1990",
         "66667",
         "1485.0",
         "121.0",
         "16.37"
        ],
        [
         "2",
         "Albania",
         "Rice, paddy",
         "1990",
         "23333",
         "1485.0",
         "121.0",
         "16.37"
        ],
        [
         "3",
         "Albania",
         "Sorghum",
         "1990",
         "12500",
         "1485.0",
         "121.0",
         "16.37"
        ],
        [
         "4",
         "Albania",
         "Soybeans",
         "1990",
         "7000",
         "1485.0",
         "121.0",
         "16.37"
        ]
       ],
       "shape": {
        "columns": 7,
        "rows": 5
       }
      },
      "text/html": [
       "<div>\n",
       "<style scoped>\n",
       "    .dataframe tbody tr th:only-of-type {\n",
       "        vertical-align: middle;\n",
       "    }\n",
       "\n",
       "    .dataframe tbody tr th {\n",
       "        vertical-align: top;\n",
       "    }\n",
       "\n",
       "    .dataframe thead th {\n",
       "        text-align: right;\n",
       "    }\n",
       "</style>\n",
       "<table border=\"1\" class=\"dataframe\">\n",
       "  <thead>\n",
       "    <tr style=\"text-align: right;\">\n",
       "      <th></th>\n",
       "      <th>Area</th>\n",
       "      <th>Item</th>\n",
       "      <th>Year</th>\n",
       "      <th>hg/ha_yield</th>\n",
       "      <th>average_rain_fall_mm_per_year</th>\n",
       "      <th>pesticides_tonnes</th>\n",
       "      <th>avg_temp</th>\n",
       "    </tr>\n",
       "  </thead>\n",
       "  <tbody>\n",
       "    <tr>\n",
       "      <th>0</th>\n",
       "      <td>Albania</td>\n",
       "      <td>Maize</td>\n",
       "      <td>1990</td>\n",
       "      <td>36613</td>\n",
       "      <td>1485.0</td>\n",
       "      <td>121.0</td>\n",
       "      <td>16.37</td>\n",
       "    </tr>\n",
       "    <tr>\n",
       "      <th>1</th>\n",
       "      <td>Albania</td>\n",
       "      <td>Potatoes</td>\n",
       "      <td>1990</td>\n",
       "      <td>66667</td>\n",
       "      <td>1485.0</td>\n",
       "      <td>121.0</td>\n",
       "      <td>16.37</td>\n",
       "    </tr>\n",
       "    <tr>\n",
       "      <th>2</th>\n",
       "      <td>Albania</td>\n",
       "      <td>Rice, paddy</td>\n",
       "      <td>1990</td>\n",
       "      <td>23333</td>\n",
       "      <td>1485.0</td>\n",
       "      <td>121.0</td>\n",
       "      <td>16.37</td>\n",
       "    </tr>\n",
       "    <tr>\n",
       "      <th>3</th>\n",
       "      <td>Albania</td>\n",
       "      <td>Sorghum</td>\n",
       "      <td>1990</td>\n",
       "      <td>12500</td>\n",
       "      <td>1485.0</td>\n",
       "      <td>121.0</td>\n",
       "      <td>16.37</td>\n",
       "    </tr>\n",
       "    <tr>\n",
       "      <th>4</th>\n",
       "      <td>Albania</td>\n",
       "      <td>Soybeans</td>\n",
       "      <td>1990</td>\n",
       "      <td>7000</td>\n",
       "      <td>1485.0</td>\n",
       "      <td>121.0</td>\n",
       "      <td>16.37</td>\n",
       "    </tr>\n",
       "  </tbody>\n",
       "</table>\n",
       "</div>"
      ],
      "text/plain": [
       "      Area         Item  Year  hg/ha_yield  average_rain_fall_mm_per_year  \\\n",
       "0  Albania        Maize  1990        36613                         1485.0   \n",
       "1  Albania     Potatoes  1990        66667                         1485.0   \n",
       "2  Albania  Rice, paddy  1990        23333                         1485.0   \n",
       "3  Albania      Sorghum  1990        12500                         1485.0   \n",
       "4  Albania     Soybeans  1990         7000                         1485.0   \n",
       "\n",
       "   pesticides_tonnes  avg_temp  \n",
       "0              121.0     16.37  \n",
       "1              121.0     16.37  \n",
       "2              121.0     16.37  \n",
       "3              121.0     16.37  \n",
       "4              121.0     16.37  "
      ]
     },
     "execution_count": 8,
     "metadata": {},
     "output_type": "execute_result"
    }
   ],
   "source": [
    "# load data\n",
    "\n",
    "yield_df = pd.read_csv(\"Data/Agritech/yield_df.csv\", index_col=0)\n",
    "yield_df.head()\n"
   ]
  },
  {
   "cell_type": "markdown",
   "id": "664bdeb5",
   "metadata": {},
   "source": [
    "In cell below I check the shape of `yield_df` using `.shape`"
   ]
  },
  {
   "cell_type": "code",
   "execution_count": 9,
   "id": "42f5f31e",
   "metadata": {},
   "outputs": [
    {
     "data": {
      "text/plain": [
       "(28242, 7)"
      ]
     },
     "execution_count": 9,
     "metadata": {},
     "output_type": "execute_result"
    }
   ],
   "source": [
    "yield_df.shape"
   ]
  },
  {
   "cell_type": "markdown",
   "id": "ca07cbc5",
   "metadata": {},
   "source": [
    "Cell above shows that `yield_df` contains `28242` entries and `8` features.\n",
    "\n",
    "In cell below I execute `.info()` to check metadata summarry"
   ]
  },
  {
   "cell_type": "code",
   "execution_count": 10,
   "id": "d39c470f",
   "metadata": {},
   "outputs": [
    {
     "name": "stdout",
     "output_type": "stream",
     "text": [
      "<class 'pandas.core.frame.DataFrame'>\n",
      "Index: 28242 entries, 0 to 28241\n",
      "Data columns (total 7 columns):\n",
      " #   Column                         Non-Null Count  Dtype  \n",
      "---  ------                         --------------  -----  \n",
      " 0   Area                           28242 non-null  object \n",
      " 1   Item                           28242 non-null  object \n",
      " 2   Year                           28242 non-null  int64  \n",
      " 3   hg/ha_yield                    28242 non-null  int64  \n",
      " 4   average_rain_fall_mm_per_year  28242 non-null  float64\n",
      " 5   pesticides_tonnes              28242 non-null  float64\n",
      " 6   avg_temp                       28242 non-null  float64\n",
      "dtypes: float64(3), int64(2), object(2)\n",
      "memory usage: 1.7+ MB\n"
     ]
    }
   ],
   "source": [
    "yield_df.info()"
   ]
  },
  {
   "cell_type": "markdown",
   "id": "67a168c9",
   "metadata": {},
   "source": [
    "In cell above the metadata reveals `yield_df` contains of `7` features both with **non missing values**. Tow of features are `objects` while 5 are `int64` and `float64`.\n",
    "\n",
    "Below I perfom statistical summary using `.describe()`"
   ]
  },
  {
   "cell_type": "code",
   "execution_count": 11,
   "id": "1b380ff2",
   "metadata": {},
   "outputs": [
    {
     "data": {
      "application/vnd.microsoft.datawrangler.viewer.v0+json": {
       "columns": [
        {
         "name": "index",
         "rawType": "object",
         "type": "string"
        },
        {
         "name": "Year",
         "rawType": "float64",
         "type": "float"
        },
        {
         "name": "hg/ha_yield",
         "rawType": "float64",
         "type": "float"
        },
        {
         "name": "average_rain_fall_mm_per_year",
         "rawType": "float64",
         "type": "float"
        },
        {
         "name": "pesticides_tonnes",
         "rawType": "float64",
         "type": "float"
        },
        {
         "name": "avg_temp",
         "rawType": "float64",
         "type": "float"
        }
       ],
       "conversionMethod": "pd.DataFrame",
       "ref": "e3d94142-6a79-43c8-8570-192a9c62d0e8",
       "rows": [
        [
         "count",
         "28242.0",
         "28242.0",
         "28242.0",
         "28242.0",
         "28242.0"
        ],
        [
         "mean",
         "2001.5442957297641",
         "77053.33209404434",
         "1149.055980454642",
         "37076.909343530904",
         "20.542626584519507"
        ],
        [
         "std",
         "7.05190528539453",
         "84956.61289666744",
         "709.8121499492202",
         "59958.78466505808",
         "6.312050836049793"
        ],
        [
         "min",
         "1990.0",
         "50.0",
         "51.0",
         "0.04",
         "1.3"
        ],
        [
         "25%",
         "1995.0",
         "19919.25",
         "593.0",
         "1702.0",
         "16.7025"
        ],
        [
         "50%",
         "2001.0",
         "38295.0",
         "1083.0",
         "17529.44",
         "21.51"
        ],
        [
         "75%",
         "2008.0",
         "104676.75",
         "1668.0",
         "48687.88",
         "26.0"
        ],
        [
         "max",
         "2013.0",
         "501412.0",
         "3240.0",
         "367778.0",
         "30.65"
        ]
       ],
       "shape": {
        "columns": 5,
        "rows": 8
       }
      },
      "text/html": [
       "<div>\n",
       "<style scoped>\n",
       "    .dataframe tbody tr th:only-of-type {\n",
       "        vertical-align: middle;\n",
       "    }\n",
       "\n",
       "    .dataframe tbody tr th {\n",
       "        vertical-align: top;\n",
       "    }\n",
       "\n",
       "    .dataframe thead th {\n",
       "        text-align: right;\n",
       "    }\n",
       "</style>\n",
       "<table border=\"1\" class=\"dataframe\">\n",
       "  <thead>\n",
       "    <tr style=\"text-align: right;\">\n",
       "      <th></th>\n",
       "      <th>Year</th>\n",
       "      <th>hg/ha_yield</th>\n",
       "      <th>average_rain_fall_mm_per_year</th>\n",
       "      <th>pesticides_tonnes</th>\n",
       "      <th>avg_temp</th>\n",
       "    </tr>\n",
       "  </thead>\n",
       "  <tbody>\n",
       "    <tr>\n",
       "      <th>count</th>\n",
       "      <td>28242.000000</td>\n",
       "      <td>28242.000000</td>\n",
       "      <td>28242.00000</td>\n",
       "      <td>28242.000000</td>\n",
       "      <td>28242.000000</td>\n",
       "    </tr>\n",
       "    <tr>\n",
       "      <th>mean</th>\n",
       "      <td>2001.544296</td>\n",
       "      <td>77053.332094</td>\n",
       "      <td>1149.05598</td>\n",
       "      <td>37076.909344</td>\n",
       "      <td>20.542627</td>\n",
       "    </tr>\n",
       "    <tr>\n",
       "      <th>std</th>\n",
       "      <td>7.051905</td>\n",
       "      <td>84956.612897</td>\n",
       "      <td>709.81215</td>\n",
       "      <td>59958.784665</td>\n",
       "      <td>6.312051</td>\n",
       "    </tr>\n",
       "    <tr>\n",
       "      <th>min</th>\n",
       "      <td>1990.000000</td>\n",
       "      <td>50.000000</td>\n",
       "      <td>51.00000</td>\n",
       "      <td>0.040000</td>\n",
       "      <td>1.300000</td>\n",
       "    </tr>\n",
       "    <tr>\n",
       "      <th>25%</th>\n",
       "      <td>1995.000000</td>\n",
       "      <td>19919.250000</td>\n",
       "      <td>593.00000</td>\n",
       "      <td>1702.000000</td>\n",
       "      <td>16.702500</td>\n",
       "    </tr>\n",
       "    <tr>\n",
       "      <th>50%</th>\n",
       "      <td>2001.000000</td>\n",
       "      <td>38295.000000</td>\n",
       "      <td>1083.00000</td>\n",
       "      <td>17529.440000</td>\n",
       "      <td>21.510000</td>\n",
       "    </tr>\n",
       "    <tr>\n",
       "      <th>75%</th>\n",
       "      <td>2008.000000</td>\n",
       "      <td>104676.750000</td>\n",
       "      <td>1668.00000</td>\n",
       "      <td>48687.880000</td>\n",
       "      <td>26.000000</td>\n",
       "    </tr>\n",
       "    <tr>\n",
       "      <th>max</th>\n",
       "      <td>2013.000000</td>\n",
       "      <td>501412.000000</td>\n",
       "      <td>3240.00000</td>\n",
       "      <td>367778.000000</td>\n",
       "      <td>30.650000</td>\n",
       "    </tr>\n",
       "  </tbody>\n",
       "</table>\n",
       "</div>"
      ],
      "text/plain": [
       "               Year    hg/ha_yield  average_rain_fall_mm_per_year  \\\n",
       "count  28242.000000   28242.000000                    28242.00000   \n",
       "mean    2001.544296   77053.332094                     1149.05598   \n",
       "std        7.051905   84956.612897                      709.81215   \n",
       "min     1990.000000      50.000000                       51.00000   \n",
       "25%     1995.000000   19919.250000                      593.00000   \n",
       "50%     2001.000000   38295.000000                     1083.00000   \n",
       "75%     2008.000000  104676.750000                     1668.00000   \n",
       "max     2013.000000  501412.000000                     3240.00000   \n",
       "\n",
       "       pesticides_tonnes      avg_temp  \n",
       "count       28242.000000  28242.000000  \n",
       "mean        37076.909344     20.542627  \n",
       "std         59958.784665      6.312051  \n",
       "min             0.040000      1.300000  \n",
       "25%          1702.000000     16.702500  \n",
       "50%         17529.440000     21.510000  \n",
       "75%         48687.880000     26.000000  \n",
       "max        367778.000000     30.650000  "
      ]
     },
     "execution_count": 11,
     "metadata": {},
     "output_type": "execute_result"
    }
   ],
   "source": [
    "# statistics summary\n",
    "yield_df.describe()"
   ]
  },
  {
   "cell_type": "markdown",
   "id": "c171e695",
   "metadata": {},
   "source": [
    "## 🧹 **Data Preparation**\n",
    "\n",
    "This phase focuses on transforming raw data into a clean and analysis-ready format. Preparing the dataset is crucial to ensure that insights drawn later are accurate, meaningful, and unbiased. The quality of the data directly influences the outcome of the analysis and any models built upon it.\n",
    "\n",
    "Key steps include:\n",
    "\n",
    "- 🔍 **Checking for Data Inconsistencies**: Identify and resolve issues such as inconsistent naming conventions, duplicated entries, or incorrect data types.\n",
    "\n",
    "- ❓ **Handling Missing Values**: Detect and appropriately address null or empty values that could skew results.\n",
    "\n",
    "- ⚠️ **Detecting and Treating Outliers**: Locate unusually high or low values that may distort analysis and handle them accordingly.\n",
    "\n",
    "- 🧾 **Data Formatting**: Standardize formats across the dataset (e.g., date formats, numerical precision, unit conversions) to ensure consistency and compatibility during analysis.\n",
    "\n",
    "By the end of this stage, the dataset will be cleaner, more reliable, and ready for effective exploratory data analysis and statistical testing.\n",
    "\n",
    "In cell below I create a copy of dataset from original for use to avoid tumpering with original dataset. I store the copy under variable `yield_copy`. Then proceeds to group my into `numeric` and `categorical` for easy and efficient cleaning.\n"
   ]
  },
  {
   "cell_type": "code",
   "execution_count": 12,
   "id": "0279ff9d",
   "metadata": {},
   "outputs": [],
   "source": [
    "# create a copy of the dataframe for further analysis\n",
    "yield_copy = yield_df.copy()"
   ]
  },
  {
   "cell_type": "code",
   "execution_count": 18,
   "id": "9db6e483",
   "metadata": {},
   "outputs": [
    {
     "data": {
      "text/plain": [
       "['Year',\n",
       " 'hg/ha_yield',\n",
       " 'average_rain_fall_mm_per_year',\n",
       " 'pesticides_tonnes',\n",
       " 'avg_temp']"
      ]
     },
     "execution_count": 18,
     "metadata": {},
     "output_type": "execute_result"
    }
   ],
   "source": [
    "# select numeric columns\n",
    "numeric_df = yield_copy.select_dtypes(include =[np.number]).columns.tolist()\n",
    "numeric_df"
   ]
  },
  {
   "cell_type": "code",
   "execution_count": 35,
   "id": "85f9fcd5",
   "metadata": {},
   "outputs": [
    {
     "data": {
      "text/plain": [
       "(28242, 5)"
      ]
     },
     "execution_count": 35,
     "metadata": {},
     "output_type": "execute_result"
    }
   ],
   "source": [
    "# check for shape of numeric columns\n",
    "yield_copy[numeric_df].shape"
   ]
  },
  {
   "cell_type": "markdown",
   "id": "96315db2",
   "metadata": {},
   "source": [
    "After selecting `numeric columns` from yield_copy I store them under variable `numeric_df`. I clean it separate from `categorical columns`.\n",
    "\n",
    "In cell below I check for missing values"
   ]
  },
  {
   "cell_type": "code",
   "execution_count": 19,
   "id": "0f334d12",
   "metadata": {},
   "outputs": [
    {
     "data": {
      "text/plain": [
       "Year                             0.0\n",
       "hg/ha_yield                      0.0\n",
       "average_rain_fall_mm_per_year    0.0\n",
       "pesticides_tonnes                0.0\n",
       "avg_temp                         0.0\n",
       "dtype: float64"
      ]
     },
     "execution_count": 19,
     "metadata": {},
     "output_type": "execute_result"
    }
   ],
   "source": [
    "# check for missing values\n",
    "\n",
    "(yield_copy[numeric_df].isna().sum()/ len(yield_copy[numeric_df]))* 100"
   ]
  },
  {
   "cell_type": "markdown",
   "id": "58156a34",
   "metadata": {},
   "source": [
    "The cell above indicates all numeric_df columns as no **missing values**\n",
    "\n",
    "In cell below I check for **duplicates** in numeric_df"
   ]
  },
  {
   "cell_type": "code",
   "execution_count": 24,
   "id": "1fe6f947",
   "metadata": {},
   "outputs": [
    {
     "data": {
      "text/plain": [
       "np.int64(2323)"
      ]
     },
     "execution_count": 24,
     "metadata": {},
     "output_type": "execute_result"
    }
   ],
   "source": [
    "# check for duplicates\n",
    "\n",
    "yield_copy[numeric_df].duplicated().sum()"
   ]
  },
  {
   "cell_type": "markdown",
   "id": "74f1889c",
   "metadata": {},
   "source": [
    "numeric_df shows some duplicates but from data understanding we can't deal we them as most are `yield` of crop but from different `area` , `Hectograms per Hectare Yield` and `year`.\n",
    "\n",
    "In cell below I check for outliers in numeric_df\n",
    "\n"
   ]
  },
  {
   "cell_type": "code",
   "execution_count": 26,
   "id": "0df33f81",
   "metadata": {},
   "outputs": [
    {
     "data": {
      "image/png": "[encoded data removed]",
      "text/plain": [
       "<Figure size 1000x600 with 1 Axes>"
      ]
     },
     "metadata": {},
     "output_type": "display_data"
    }
   ],
   "source": [
    "# check for outliers using boxplot\n",
    "\n",
    "fig, ax = plt.subplots(figsize=(10, 6))\n",
    "sns.boxplot(data = yield_copy[numeric_df], ax=ax)\n",
    "ax.tick_params(axis='x', rotation=45)\n",
    "ax.set_title(\"Detecting Outliers \")\n",
    "plt.show()\n",
    "\n",
    "\n"
   ]
  },
  {
   "cell_type": "markdown",
   "id": "481c8cf0",
   "metadata": {},
   "source": [
    "From the `boxplot` above shows that `hg/ha_yield` and `pesticides_tonnes` contains most outliers.\n",
    "\n",
    "- Heavy outlier presence: Many values far above upper whisker.\n",
    "- Indicates some countries/crops achieve very high yields — could be due to advanced farming, outlier crops (like sugar beet), or reporting anomalies.\n",
    "\n",
    "`average_rain_fall_mm_per_year` Mostly within whiskers, but a few outliers on the higher end.\n",
    "\n",
    "`pesticides_tonnes` Strong right skew, many outliers.\n",
    "\n",
    "Suggests that while most countries use low pesticides, a few use extremely high amounts.\n",
    "\n",
    "`avg_temp` Fairly tight distribution.\n",
    "\n",
    "In cell below I write a function to remove the outliers for better anlysis"
   ]
  },
  {
   "cell_type": "code",
   "execution_count": 43,
   "id": "bb5188e3",
   "metadata": {},
   "outputs": [],
   "source": [
    "# remove outliers \n",
    "\n",
    "def remove_outliers(df, column):\n",
    "    \"\"\"Remove outliers from a DataFrame based on the IQR method.\"\"\"\n",
    "    Q1 = df[column].quantile(0.25)\n",
    "    Q3 = df[column].quantile(0.75)\n",
    "    IQR = Q3 - Q1\n",
    "    lower_bound = Q1 - 1.5 * IQR\n",
    "    upper_bound = Q3 + 1.5 * IQR\n",
    "    return df[(df[column] >= lower_bound) & (df[column] <= upper_bound)]\n",
    "\n",
    "data = yield_copy[numeric_df]\n",
    "columns_to_remove = ['hg/ha_yield', 'pesticides_tonnes', 'average_rain_fall_mm_per_year', 'avg_temp' ]\n",
    "\n",
    "for col in columns_to_remove:\n",
    "    yield_copy = remove_outliers(data, columns_to_remove)\n"
   ]
  },
  {
   "cell_type": "code",
   "execution_count": 44,
   "id": "6e63ae6d",
   "metadata": {},
   "outputs": [
    {
     "data": {
      "image/png": "[encoded data removed]",
      "text/plain": [
       "<Figure size 1000x600 with 1 Axes>"
      ]
     },
     "metadata": {},
     "output_type": "display_data"
    }
   ],
   "source": [
    "# check for outliers after removing outliers\n",
    "\n",
    "fig, ax = plt.subplots(figsize=(10, 6))\n",
    "sns.boxplot(data = yield_copy, ax=ax)\n",
    "ax.tick_params(axis='x', rotation=45)       \n",
    "ax.set_title(\"Detecting Outliers after removing outliers\")\n",
    "plt.show()"
   ]
  },
  {
   "cell_type": "markdown",
   "id": "18227b18",
   "metadata": {},
   "source": [
    "`hg/ha_yield (hectogram per hectare yield)` There's a significant reduction in extreme outliers compared to your earlier plot.\n",
    "\n",
    "- However, a few high-yield outliers still remain — likely valid extreme values rather than noise.\n",
    "\n",
    "`pesticides_tonnes` Outliers have reduced, but several points are still marked outside the whiskers.\n",
    "\n",
    "- This suggests a right-skewed distribution, where a small number of countries/years used a disproportionately large amount of pesticides.\n",
    "\n"
   ]
  },
  {
   "cell_type": "markdown",
   "id": "f91f5440",
   "metadata": {},
   "source": [
    "In cell below I select `categorical` columns from the `yield_copy` and clean it for analysis. I store the columns under variable `categorical_df`. "
   ]
  },
  {
   "cell_type": "code",
   "execution_count": 45,
   "id": "220f7aec",
   "metadata": {},
   "outputs": [
    {
     "data": {
      "text/plain": [
       "[]"
      ]
     },
     "execution_count": 45,
     "metadata": {},
     "output_type": "execute_result"
    }
   ],
   "source": [
    "# select categorical columns\n",
    "\n",
    "categorical_df = yield_copy.select_dtypes(include=[np.object_]).columns.tolist()\n",
    "categorical_df"
   ]
  },
  {
   "cell_type": "markdown",
   "id": "51609c94",
   "metadata": {},
   "source": [
    "`categorical_df` contains only two columns.\n",
    "\n",
    "In cell below I check for missing values on `categorical_df`"
   ]
  },
  {
   "cell_type": "code",
   "execution_count": 37,
   "id": "bdce1890",
   "metadata": {},
   "outputs": [
    {
     "data": {
      "text/plain": [
       "Area    0.0\n",
       "Item    0.0\n",
       "dtype: float64"
      ]
     },
     "execution_count": 37,
     "metadata": {},
     "output_type": "execute_result"
    }
   ],
   "source": [
    "# check for missing values\n",
    "\n",
    "yield_copy[categorical_df].isna().sum()/ len(yield_copy[categorical_df]) * 100"
   ]
  },
  {
   "cell_type": "markdown",
   "id": "7efc2beb",
   "metadata": {},
   "source": [
    "`categorical_df` shows no missing values.\n",
    "\n",
    "In cell below I look for duplicates contained in `categorical_df`"
   ]
  },
  {
   "cell_type": "code",
   "execution_count": 46,
   "id": "79b9eee9",
   "metadata": {},
   "outputs": [
    {
     "data": {
      "text/plain": [
       "np.int64(0)"
      ]
     },
     "execution_count": 46,
     "metadata": {},
     "output_type": "execute_result"
    }
   ],
   "source": [
    "yield_copy[categorical_df].duplicated().sum()"
   ]
  },
  {
   "cell_type": "markdown",
   "id": "7f775f80",
   "metadata": {},
   "source": [
    "Indicates there are some duplicates but after deep understanding of data the values showing duplicates can't be removed as they represent different item in different year. "
   ]
  },
  {
   "cell_type": "markdown",
   "id": "4ddb5cd9",
   "metadata": {},
   "source": [
    "## 📊 **Exporatorly Data Analysis**"
   ]
  },
  {
   "cell_type": "code",
   "execution_count": null,
   "id": "49cd99fb",
   "metadata": {},
   "outputs": [],
   "source": []
  }
 ],
 "metadata": {
  "kernelspec": {
   "display_name": ".venv",
   "language": "python",
   "name": "python3"
  },
  "language_info": {
   "codemirror_mode": {
    "name": "ipython",
    "version": 3
   },
   "file_extension": ".py",
   "mimetype": "text/x-python",
   "name": "python",
   "nbconvert_exporter": "python",
   "pygments_lexer": "ipython3",
   "version": "3.11.9"
  }
 },
 "nbformat": 4,
 "nbformat_minor": 5
}
